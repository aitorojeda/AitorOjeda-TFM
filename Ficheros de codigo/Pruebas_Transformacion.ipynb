{
 "cells": [
  {
   "cell_type": "code",
   "execution_count": 3,
   "id": "4e443957",
   "metadata": {
    "scrolled": true
   },
   "outputs": [],
   "source": [
    "import pandas as pd"
   ]
  },
  {
   "cell_type": "code",
   "execution_count": 10,
   "id": "03649660",
   "metadata": {},
   "outputs": [
    {
     "name": "stdout",
     "output_type": "stream",
     "text": [
      "C:\\Users\\Aitor\\anaconda3\\envs\\env_TFM\\python.exe\n",
      "Requirement already satisfied: pandas in c:\\users\\aitor\\anaconda3\\envs\\env_tfm\\lib\\site-packages (1.2.4)\n"
     ]
    },
    {
     "name": "stderr",
     "output_type": "stream",
     "text": [
      "ERROR: Could not install packages due to an OSError: [Errno 2] No such file or directory: 'c:\\\\users\\\\aitor\\\\anaconda3\\\\envs\\\\env_tfm\\\\lib\\\\site-packages\\\\pandas-1.2.4.dist-info\\\\METADATA'\n",
      "\n"
     ]
    }
   ],
   "source": [
    " import sys\n",
    " print(sys.executable)\n",
    "! C:\\Users\\Aitor\\anaconda3\\envs\\env_TFM\\python.exe -m pip install pandas"
   ]
  },
  {
   "cell_type": "code",
   "execution_count": 11,
   "id": "7e80a524",
   "metadata": {},
   "outputs": [
    {
     "name": "stdout",
     "output_type": "stream",
     "text": [
      "C:\\Users\\Aitor\\anaconda3\\envs\\env_TFM\\python.exe\n",
      "Requirement already satisfied: pyspark==2.4.3 in c:\\users\\aitor\\anaconda3\\envs\\env_tfm\\lib\\site-packages (2.4.3)\n",
      "Requirement already satisfied: py4j==0.10.7 in c:\\users\\aitor\\anaconda3\\envs\\env_tfm\\lib\\site-packages (from pyspark==2.4.3) (0.10.7)\n"
     ]
    },
    {
     "name": "stderr",
     "output_type": "stream",
     "text": [
      "WARNING: Error parsing requirements for pytz: [Errno 2] No such file or directory: 'c:\\\\users\\\\aitor\\\\anaconda3\\\\envs\\\\env_tfm\\\\lib\\\\site-packages\\\\pytz-2021.1.dist-info\\\\METADATA'\n",
      "WARNING: Error parsing requirements for pandas: [Errno 2] No such file or directory: 'c:\\\\users\\\\aitor\\\\anaconda3\\\\envs\\\\env_tfm\\\\lib\\\\site-packages\\\\pandas-1.2.4.dist-info\\\\METADATA'\n"
     ]
    }
   ],
   "source": [
    " import sys\n",
    " print(sys.executable)\n",
    "! C:\\Users\\Aitor\\anaconda3\\envs\\env_TFM\\python.exe -m pip install pyspark==2.4.3"
   ]
  },
  {
   "cell_type": "code",
   "execution_count": 5,
   "id": "4e38e35f",
   "metadata": {},
   "outputs": [
    {
     "data": {
      "text/html": [
       "\n",
       "            <div>\n",
       "                <p><b>SparkSession - in-memory</b></p>\n",
       "                \n",
       "        <div>\n",
       "            <p><b>SparkContext</b></p>\n",
       "\n",
       "            <p><a href=\"http://DESKTOP-E9BCQHT:4040\">Spark UI</a></p>\n",
       "\n",
       "            <dl>\n",
       "              <dt>Version</dt>\n",
       "                <dd><code>v2.4.3</code></dd>\n",
       "              <dt>Master</dt>\n",
       "                <dd><code>local[*]</code></dd>\n",
       "              <dt>AppName</dt>\n",
       "                <dd><code>Test_spark</code></dd>\n",
       "            </dl>\n",
       "        </div>\n",
       "        \n",
       "            </div>\n",
       "        "
      ],
      "text/plain": [
       "<pyspark.sql.session.SparkSession at 0x207a02fccc8>"
      ]
     },
     "execution_count": 5,
     "metadata": {},
     "output_type": "execute_result"
    }
   ],
   "source": [
    "from pyspark.sql import SparkSession\n",
    "spark = SparkSession.builder.appName(\"Test_spark\").master(\"local[*]\").getOrCreate()\n",
    "spark"
   ]
  },
  {
   "cell_type": "code",
   "execution_count": 19,
   "id": "c12ddedd",
   "metadata": {},
   "outputs": [
    {
     "data": {
      "text/html": [
       "<div>\n",
       "<style scoped>\n",
       "    .dataframe tbody tr th:only-of-type {\n",
       "        vertical-align: middle;\n",
       "    }\n",
       "\n",
       "    .dataframe tbody tr th {\n",
       "        vertical-align: top;\n",
       "    }\n",
       "\n",
       "    .dataframe thead th {\n",
       "        text-align: right;\n",
       "    }\n",
       "</style>\n",
       "<table border=\"1\" class=\"dataframe\">\n",
       "  <thead>\n",
       "    <tr style=\"text-align: right;\">\n",
       "      <th></th>\n",
       "      <th>_c0</th>\n",
       "      <th>_c1</th>\n",
       "      <th>_c2</th>\n",
       "      <th>_c3</th>\n",
       "      <th>_c4</th>\n",
       "      <th>_c5</th>\n",
       "      <th>_c6</th>\n",
       "      <th>_c7</th>\n",
       "    </tr>\n",
       "  </thead>\n",
       "  <tbody>\n",
       "    <tr>\n",
       "      <th>0</th>\n",
       "      <td>1</td>\n",
       "      <td>0</td>\n",
       "      <td>1.009766</td>\n",
       "      <td>-0.016602</td>\n",
       "      <td>0.016602</td>\n",
       "      <td>0.900763</td>\n",
       "      <td>0.152672</td>\n",
       "      <td>-0.778626</td>\n",
       "    </tr>\n",
       "    <tr>\n",
       "      <th>1</th>\n",
       "      <td>2</td>\n",
       "      <td>1661</td>\n",
       "      <td>1.009277</td>\n",
       "      <td>-0.020020</td>\n",
       "      <td>0.031250</td>\n",
       "      <td>1.007634</td>\n",
       "      <td>-0.015267</td>\n",
       "      <td>-0.580153</td>\n",
       "    </tr>\n",
       "    <tr>\n",
       "      <th>2</th>\n",
       "      <td>3</td>\n",
       "      <td>3333</td>\n",
       "      <td>1.006348</td>\n",
       "      <td>-0.018555</td>\n",
       "      <td>0.026855</td>\n",
       "      <td>0.809160</td>\n",
       "      <td>0.045802</td>\n",
       "      <td>-0.625954</td>\n",
       "    </tr>\n",
       "  </tbody>\n",
       "</table>\n",
       "</div>"
      ],
      "text/plain": [
       "  _c0   _c1       _c2        _c3       _c4       _c5        _c6        _c7\n",
       "0   1     0  1.009766  -0.016602  0.016602  0.900763   0.152672  -0.778626\n",
       "1   2  1661  1.009277  -0.020020  0.031250  1.007634  -0.015267  -0.580153\n",
       "2   3  3333  1.006348  -0.018555  0.026855  0.809160   0.045802  -0.625954"
      ]
     },
     "execution_count": 19,
     "metadata": {},
     "output_type": "execute_result"
    }
   ],
   "source": [
    "ruta = 'C:/Users/Aitor/TFM_Notebooks/datos_usuarios/'\n",
    "datos_usuario = 'datos_user_1.csv'\n",
    "df = spark.read.option(\"sep\",\";\").option(\"mode\",\"DROPMALFORMED\").csv(ruta+datos_usuario)\n",
    "\n",
    "df.limit(3).toPandas()"
   ]
  },
  {
   "cell_type": "code",
   "execution_count": 28,
   "id": "8781b318",
   "metadata": {},
   "outputs": [],
   "source": [
    "from pyspark.sql.functions import lit\n",
    "df_1=df.withColumn('User_ID',lit(1))"
   ]
  },
  {
   "cell_type": "code",
   "execution_count": 30,
   "id": "83ccb7ca",
   "metadata": {},
   "outputs": [
    {
     "data": {
      "text/html": [
       "<div>\n",
       "<style scoped>\n",
       "    .dataframe tbody tr th:only-of-type {\n",
       "        vertical-align: middle;\n",
       "    }\n",
       "\n",
       "    .dataframe tbody tr th {\n",
       "        vertical-align: top;\n",
       "    }\n",
       "\n",
       "    .dataframe thead th {\n",
       "        text-align: right;\n",
       "    }\n",
       "</style>\n",
       "<table border=\"1\" class=\"dataframe\">\n",
       "  <thead>\n",
       "    <tr style=\"text-align: right;\">\n",
       "      <th></th>\n",
       "      <th>User_ID</th>\n",
       "      <th>_c0</th>\n",
       "      <th>_c1</th>\n",
       "      <th>_c2</th>\n",
       "      <th>_c3</th>\n",
       "      <th>_c4</th>\n",
       "      <th>_c5</th>\n",
       "      <th>_c6</th>\n",
       "      <th>_c7</th>\n",
       "    </tr>\n",
       "  </thead>\n",
       "  <tbody>\n",
       "    <tr>\n",
       "      <th>0</th>\n",
       "      <td>1</td>\n",
       "      <td>1</td>\n",
       "      <td>0</td>\n",
       "      <td>1.009766</td>\n",
       "      <td>-0.016602</td>\n",
       "      <td>0.016602</td>\n",
       "      <td>0.900763</td>\n",
       "      <td>0.152672</td>\n",
       "      <td>-0.778626</td>\n",
       "    </tr>\n",
       "    <tr>\n",
       "      <th>1</th>\n",
       "      <td>1</td>\n",
       "      <td>2</td>\n",
       "      <td>1661</td>\n",
       "      <td>1.009277</td>\n",
       "      <td>-0.020020</td>\n",
       "      <td>0.031250</td>\n",
       "      <td>1.007634</td>\n",
       "      <td>-0.015267</td>\n",
       "      <td>-0.580153</td>\n",
       "    </tr>\n",
       "    <tr>\n",
       "      <th>2</th>\n",
       "      <td>1</td>\n",
       "      <td>3</td>\n",
       "      <td>3333</td>\n",
       "      <td>1.006348</td>\n",
       "      <td>-0.018555</td>\n",
       "      <td>0.026855</td>\n",
       "      <td>0.809160</td>\n",
       "      <td>0.045802</td>\n",
       "      <td>-0.625954</td>\n",
       "    </tr>\n",
       "    <tr>\n",
       "      <th>3</th>\n",
       "      <td>1</td>\n",
       "      <td>4</td>\n",
       "      <td>4994</td>\n",
       "      <td>1.014648</td>\n",
       "      <td>-0.010254</td>\n",
       "      <td>0.034668</td>\n",
       "      <td>0.900763</td>\n",
       "      <td>-0.152672</td>\n",
       "      <td>-0.625954</td>\n",
       "    </tr>\n",
       "    <tr>\n",
       "      <th>4</th>\n",
       "      <td>1</td>\n",
       "      <td>5</td>\n",
       "      <td>6655</td>\n",
       "      <td>1.015137</td>\n",
       "      <td>-0.016602</td>\n",
       "      <td>0.021484</td>\n",
       "      <td>0.687023</td>\n",
       "      <td>0.259542</td>\n",
       "      <td>-0.916031</td>\n",
       "    </tr>\n",
       "  </tbody>\n",
       "</table>\n",
       "</div>"
      ],
      "text/plain": [
       "   User_ID _c0   _c1       _c2        _c3       _c4       _c5        _c6  \\\n",
       "0        1   1     0  1.009766  -0.016602  0.016602  0.900763   0.152672   \n",
       "1        1   2  1661  1.009277  -0.020020  0.031250  1.007634  -0.015267   \n",
       "2        1   3  3333  1.006348  -0.018555  0.026855  0.809160   0.045802   \n",
       "3        1   4  4994  1.014648  -0.010254  0.034668  0.900763  -0.152672   \n",
       "4        1   5  6655  1.015137  -0.016602  0.021484  0.687023   0.259542   \n",
       "\n",
       "         _c7  \n",
       "0  -0.778626  \n",
       "1  -0.580153  \n",
       "2  -0.625954  \n",
       "3  -0.625954  \n",
       "4  -0.916031  "
      ]
     },
     "execution_count": 30,
     "metadata": {},
     "output_type": "execute_result"
    }
   ],
   "source": [
    "df_nuevo = df_1.select('User_ID',\"_c0\",\"_c1\",\"_c2\",\"_c3\",\"_c4\",\"_c5\",\"_c6\",\"_c7\")\n",
    "df_nuevo.limit(5).toPandas()"
   ]
  },
  {
   "cell_type": "code",
   "execution_count": 1,
   "id": "4f1bb2fa",
   "metadata": {},
   "outputs": [],
   "source": [
    "import os\n",
    "import pandas as pd\n",
    "from pyspark.sql.functions import lit"
   ]
  },
  {
   "cell_type": "code",
   "execution_count": 34,
   "id": "06476e6e",
   "metadata": {},
   "outputs": [
    {
     "data": {
      "text/html": [
       "<div>\n",
       "<style scoped>\n",
       "    .dataframe tbody tr th:only-of-type {\n",
       "        vertical-align: middle;\n",
       "    }\n",
       "\n",
       "    .dataframe tbody tr th {\n",
       "        vertical-align: top;\n",
       "    }\n",
       "\n",
       "    .dataframe thead th {\n",
       "        text-align: right;\n",
       "    }\n",
       "</style>\n",
       "<table border=\"1\" class=\"dataframe\">\n",
       "  <thead>\n",
       "    <tr style=\"text-align: right;\">\n",
       "      <th></th>\n",
       "      <th>time(us)</th>\n",
       "      <th>accX(g)</th>\n",
       "      <th>accY(g)</th>\n",
       "      <th>accZ(g)</th>\n",
       "      <th>gyrX(o/s)</th>\n",
       "      <th>gyrY(o/s)</th>\n",
       "      <th>gyrZ(o/s)</th>\n",
       "      <th>User_ID</th>\n",
       "      <th>Attemp</th>\n",
       "    </tr>\n",
       "  </thead>\n",
       "  <tbody>\n",
       "    <tr>\n",
       "      <th>0</th>\n",
       "      <td>0</td>\n",
       "      <td>1.009766</td>\n",
       "      <td>-0.016602</td>\n",
       "      <td>0.016602</td>\n",
       "      <td>0.900763</td>\n",
       "      <td>0.152672</td>\n",
       "      <td>-0.778626</td>\n",
       "      <td>1</td>\n",
       "      <td>1</td>\n",
       "    </tr>\n",
       "    <tr>\n",
       "      <th>1</th>\n",
       "      <td>1661</td>\n",
       "      <td>1.009277</td>\n",
       "      <td>-0.020020</td>\n",
       "      <td>0.031250</td>\n",
       "      <td>1.007634</td>\n",
       "      <td>-0.015267</td>\n",
       "      <td>-0.580153</td>\n",
       "      <td>1</td>\n",
       "      <td>1</td>\n",
       "    </tr>\n",
       "    <tr>\n",
       "      <th>2</th>\n",
       "      <td>3333</td>\n",
       "      <td>1.006348</td>\n",
       "      <td>-0.018555</td>\n",
       "      <td>0.026855</td>\n",
       "      <td>0.809160</td>\n",
       "      <td>0.045802</td>\n",
       "      <td>-0.625954</td>\n",
       "      <td>1</td>\n",
       "      <td>1</td>\n",
       "    </tr>\n",
       "    <tr>\n",
       "      <th>3</th>\n",
       "      <td>4994</td>\n",
       "      <td>1.014648</td>\n",
       "      <td>-0.010254</td>\n",
       "      <td>0.034668</td>\n",
       "      <td>0.900763</td>\n",
       "      <td>-0.152672</td>\n",
       "      <td>-0.625954</td>\n",
       "      <td>1</td>\n",
       "      <td>1</td>\n",
       "    </tr>\n",
       "    <tr>\n",
       "      <th>4</th>\n",
       "      <td>6655</td>\n",
       "      <td>1.015137</td>\n",
       "      <td>-0.016602</td>\n",
       "      <td>0.021484</td>\n",
       "      <td>0.687023</td>\n",
       "      <td>0.259542</td>\n",
       "      <td>-0.916031</td>\n",
       "      <td>1</td>\n",
       "      <td>1</td>\n",
       "    </tr>\n",
       "  </tbody>\n",
       "</table>\n",
       "</div>"
      ],
      "text/plain": [
       "   time(us)   accX(g)    accY(g)   accZ(g)  gyrX(o/s)  gyrY(o/s)  gyrZ(o/s)  \\\n",
       "0         0  1.009766  -0.016602  0.016602   0.900763   0.152672  -0.778626   \n",
       "1      1661  1.009277  -0.020020  0.031250   1.007634  -0.015267  -0.580153   \n",
       "2      3333  1.006348  -0.018555  0.026855   0.809160   0.045802  -0.625954   \n",
       "3      4994  1.014648  -0.010254  0.034668   0.900763  -0.152672  -0.625954   \n",
       "4      6655  1.015137  -0.016602  0.021484   0.687023   0.259542  -0.916031   \n",
       "\n",
       "   User_ID  Attemp  \n",
       "0        1       1  \n",
       "1        1       1  \n",
       "2        1       1  \n",
       "3        1       1  \n",
       "4        1       1  "
      ]
     },
     "execution_count": 34,
     "metadata": {},
     "output_type": "execute_result"
    }
   ],
   "source": [
    "ruta_general=\"C:/Users/Aitor/Desktop/knobID20/knobID01/\"\n",
    "archivo = \"knobID01_01.csv\"\n",
    "df_2 = spark.read.option(\"sep\",\";\").option(\"header\",\"true\").option(\"mode\",\"DROPMALFORMED\").csv(ruta_general+archivo)\n",
    "df_2tf=df_2.withColumn('User_ID',lit(1)).withColumn('Attemp',lit(1)).drop(\"num\")\n",
    "df_2tf.limit(5).toPandas()"
   ]
  },
  {
   "cell_type": "code",
   "execution_count": 50,
   "id": "fd3988c3",
   "metadata": {},
   "outputs": [
    {
     "data": {
      "text/html": [
       "<div>\n",
       "<style scoped>\n",
       "    .dataframe tbody tr th:only-of-type {\n",
       "        vertical-align: middle;\n",
       "    }\n",
       "\n",
       "    .dataframe tbody tr th {\n",
       "        vertical-align: top;\n",
       "    }\n",
       "\n",
       "    .dataframe thead th {\n",
       "        text-align: right;\n",
       "    }\n",
       "</style>\n",
       "<table border=\"1\" class=\"dataframe\">\n",
       "  <thead>\n",
       "    <tr style=\"text-align: right;\">\n",
       "      <th></th>\n",
       "      <th>User_ID</th>\n",
       "      <th>Attemp</th>\n",
       "      <th>time(us)</th>\n",
       "      <th>accX(g)</th>\n",
       "      <th>accY(g)</th>\n",
       "      <th>accZ(g)</th>\n",
       "      <th>gyrX(o/s)</th>\n",
       "      <th>gyrY(o/s)</th>\n",
       "      <th>gyrZ(o/s)</th>\n",
       "    </tr>\n",
       "  </thead>\n",
       "  <tbody>\n",
       "    <tr>\n",
       "      <th>0</th>\n",
       "      <td>1</td>\n",
       "      <td>1</td>\n",
       "      <td>0</td>\n",
       "      <td>1.009766</td>\n",
       "      <td>-0.016602</td>\n",
       "      <td>0.016602</td>\n",
       "      <td>0.900763</td>\n",
       "      <td>0.152672</td>\n",
       "      <td>-0.778626</td>\n",
       "    </tr>\n",
       "    <tr>\n",
       "      <th>1</th>\n",
       "      <td>1</td>\n",
       "      <td>1</td>\n",
       "      <td>1661</td>\n",
       "      <td>1.009277</td>\n",
       "      <td>-0.020020</td>\n",
       "      <td>0.031250</td>\n",
       "      <td>1.007634</td>\n",
       "      <td>-0.015267</td>\n",
       "      <td>-0.580153</td>\n",
       "    </tr>\n",
       "    <tr>\n",
       "      <th>2</th>\n",
       "      <td>1</td>\n",
       "      <td>1</td>\n",
       "      <td>3333</td>\n",
       "      <td>1.006348</td>\n",
       "      <td>-0.018555</td>\n",
       "      <td>0.026855</td>\n",
       "      <td>0.809160</td>\n",
       "      <td>0.045802</td>\n",
       "      <td>-0.625954</td>\n",
       "    </tr>\n",
       "    <tr>\n",
       "      <th>3</th>\n",
       "      <td>1</td>\n",
       "      <td>1</td>\n",
       "      <td>4994</td>\n",
       "      <td>1.014648</td>\n",
       "      <td>-0.010254</td>\n",
       "      <td>0.034668</td>\n",
       "      <td>0.900763</td>\n",
       "      <td>-0.152672</td>\n",
       "      <td>-0.625954</td>\n",
       "    </tr>\n",
       "    <tr>\n",
       "      <th>4</th>\n",
       "      <td>1</td>\n",
       "      <td>1</td>\n",
       "      <td>6655</td>\n",
       "      <td>1.015137</td>\n",
       "      <td>-0.016602</td>\n",
       "      <td>0.021484</td>\n",
       "      <td>0.687023</td>\n",
       "      <td>0.259542</td>\n",
       "      <td>-0.916031</td>\n",
       "    </tr>\n",
       "    <tr>\n",
       "      <th>...</th>\n",
       "      <td>...</td>\n",
       "      <td>...</td>\n",
       "      <td>...</td>\n",
       "      <td>...</td>\n",
       "      <td>...</td>\n",
       "      <td>...</td>\n",
       "      <td>...</td>\n",
       "      <td>...</td>\n",
       "      <td>...</td>\n",
       "    </tr>\n",
       "    <tr>\n",
       "      <th>1490</th>\n",
       "      <td>1</td>\n",
       "      <td>1</td>\n",
       "      <td>2475525</td>\n",
       "      <td>1.007324</td>\n",
       "      <td>-0.021973</td>\n",
       "      <td>0.014648</td>\n",
       "      <td>1.083969</td>\n",
       "      <td>0.396947</td>\n",
       "      <td>-0.702290</td>\n",
       "    </tr>\n",
       "    <tr>\n",
       "      <th>1491</th>\n",
       "      <td>1</td>\n",
       "      <td>1</td>\n",
       "      <td>2477182</td>\n",
       "      <td>1.007324</td>\n",
       "      <td>-0.020508</td>\n",
       "      <td>0.017090</td>\n",
       "      <td>0.900763</td>\n",
       "      <td>0.167939</td>\n",
       "      <td>-0.732824</td>\n",
       "    </tr>\n",
       "    <tr>\n",
       "      <th>1492</th>\n",
       "      <td>1</td>\n",
       "      <td>1</td>\n",
       "      <td>2478842</td>\n",
       "      <td>1.010254</td>\n",
       "      <td>-0.018555</td>\n",
       "      <td>0.019531</td>\n",
       "      <td>0.824427</td>\n",
       "      <td>0.213740</td>\n",
       "      <td>-0.992366</td>\n",
       "    </tr>\n",
       "    <tr>\n",
       "      <th>1493</th>\n",
       "      <td>1</td>\n",
       "      <td>1</td>\n",
       "      <td>2480501</td>\n",
       "      <td>1.002930</td>\n",
       "      <td>-0.020996</td>\n",
       "      <td>0.023438</td>\n",
       "      <td>1.129771</td>\n",
       "      <td>0.167939</td>\n",
       "      <td>-0.870229</td>\n",
       "    </tr>\n",
       "    <tr>\n",
       "      <th>1494</th>\n",
       "      <td>1</td>\n",
       "      <td>1</td>\n",
       "      <td>2482160</td>\n",
       "      <td>1.013672</td>\n",
       "      <td>-0.018066</td>\n",
       "      <td>0.026855</td>\n",
       "      <td>1.206107</td>\n",
       "      <td>0.137405</td>\n",
       "      <td>-0.809160</td>\n",
       "    </tr>\n",
       "  </tbody>\n",
       "</table>\n",
       "<p>1495 rows × 9 columns</p>\n",
       "</div>"
      ],
      "text/plain": [
       "      User_ID  Attemp  time(us)   accX(g)    accY(g)   accZ(g)  gyrX(o/s)  \\\n",
       "0           1       1         0  1.009766  -0.016602  0.016602   0.900763   \n",
       "1           1       1      1661  1.009277  -0.020020  0.031250   1.007634   \n",
       "2           1       1      3333  1.006348  -0.018555  0.026855   0.809160   \n",
       "3           1       1      4994  1.014648  -0.010254  0.034668   0.900763   \n",
       "4           1       1      6655  1.015137  -0.016602  0.021484   0.687023   \n",
       "...       ...     ...       ...       ...        ...       ...        ...   \n",
       "1490        1       1   2475525  1.007324  -0.021973  0.014648   1.083969   \n",
       "1491        1       1   2477182  1.007324  -0.020508  0.017090   0.900763   \n",
       "1492        1       1   2478842  1.010254  -0.018555  0.019531   0.824427   \n",
       "1493        1       1   2480501  1.002930  -0.020996  0.023438   1.129771   \n",
       "1494        1       1   2482160  1.013672  -0.018066  0.026855   1.206107   \n",
       "\n",
       "      gyrY(o/s)  gyrZ(o/s)  \n",
       "0      0.152672  -0.778626  \n",
       "1     -0.015267  -0.580153  \n",
       "2      0.045802  -0.625954  \n",
       "3     -0.152672  -0.625954  \n",
       "4      0.259542  -0.916031  \n",
       "...         ...        ...  \n",
       "1490   0.396947  -0.702290  \n",
       "1491   0.167939  -0.732824  \n",
       "1492   0.213740  -0.992366  \n",
       "1493   0.167939  -0.870229  \n",
       "1494   0.137405  -0.809160  \n",
       "\n",
       "[1495 rows x 9 columns]"
      ]
     },
     "execution_count": 50,
     "metadata": {},
     "output_type": "execute_result"
    }
   ],
   "source": [
    "df_final_1 = df_2tf.select('User_ID','Attemp',' time(us)',\" accX(g)\",\" accY(g)\",\" accZ(g)\",\" gyrX(o/s)\",\" gyrY(o/s)\",\" gyrZ(o/s)\")\n",
    "df_final_1.toPandas()"
   ]
  },
  {
   "cell_type": "code",
   "execution_count": 81,
   "id": "87765b8a",
   "metadata": {},
   "outputs": [],
   "source": [
    "cont=10\n",
    "while(cont<=47):\n",
    "    num = str(cont)\n",
    "    ruta_gen=\"C:/Users/Aitor/Desktop/knobID20/knobID\"+num\n",
    "    ruta_dest=\"C:/Users/Aitor/Desktop/datos_mod/\"\n",
    "    valorAttemp=1\n",
    "    for filename in os.listdir(ruta_gen):\n",
    "        df_aux = spark.read.option(\"sep\",\";\").option(\"header\",\"true\").option(\"mode\",\"DROPMALFORMED\").csv(ruta_gen+\"/\"+filename)\n",
    "        df_aux_tf=df_aux.withColumn('User_ID',lit(cont)).withColumn('Attemp',lit(valorAttemp)).drop(\"num\")\n",
    "        df_final_aux = df_aux_tf.select('User_ID','Attemp',' time(us)',\" accX(g)\",\" accY(g)\",\" accZ(g)\",\" gyrX(o/s)\",\" gyrY(o/s)\",\" gyrZ(o/s)\")\n",
    "        df_final_aux.toPandas().to_csv(ruta_dest+filename,index=False)\n",
    "        valorAttemp=valorAttemp+1\n",
    "    cont=cont+1"
   ]
  },
  {
   "cell_type": "code",
   "execution_count": 82,
   "id": "6e25c12e",
   "metadata": {},
   "outputs": [],
   "source": [
    "ruta_gen=\"C:/Users/Aitor/Desktop/knobID20/knobID02\"\n",
    "ruta_dest=\"C:/Users/Aitor/Desktop/datos_mod/\"\n",
    "valorAttemp=1\n",
    "for filename in os.listdir(ruta_gen):\n",
    "    df_aux = spark.read.option(\"sep\",\";\").option(\"header\",\"true\").option(\"mode\",\"DROPMALFORMED\").csv(ruta_gen+\"/\"+filename)\n",
    "    df_aux_tf=df_aux.withColumn('User_ID',lit(2)).withColumn('Attemp',lit(valorAttemp)).drop(\"num\")\n",
    "    df_final_aux = df_aux_tf.select('User_ID','Attemp',' time(us)',\" accX(g)\",\" accY(g)\",\" accZ(g)\",\" gyrX(o/s)\",\" gyrY(o/s)\",\" gyrZ(o/s)\")\n",
    "    df_final_aux.toPandas().to_csv(ruta_dest+filename,index=False)\n",
    "    valorAttemp=valorAttemp+1"
   ]
  },
  {
   "cell_type": "code",
   "execution_count": 92,
   "id": "300b2beb",
   "metadata": {},
   "outputs": [
    {
     "name": "stdout",
     "output_type": "stream",
     "text": [
      "Se han borrado las cabeceras del conjunto de datos\n"
     ]
    }
   ],
   "source": [
    "ruta=\"C:/Users/Aitor/Desktop/datos_mod/\"\n",
    "ruta_dest=\"C:/Users/Aitor/Desktop/datos_mod_cab/\"\n",
    "\n",
    "for filename in os.listdir(ruta):\n",
    "    with open(ruta+\"/\"+filename) as f:\n",
    "        with open(ruta_dest+filename,'w') as f1:\n",
    "            next(f)\n",
    "            for line in f:\n",
    "                f1.write(line)\n",
    "print(\"Se han borrado las cabeceras del conjunto de datos\")"
   ]
  },
  {
   "cell_type": "code",
   "execution_count": 19,
   "id": "7cf738b8",
   "metadata": {},
   "outputs": [],
   "source": [
    "ruta_input=\"C:/Users/Aitor/Desktop/TFM/entrenamiento/\"\n",
    "ruta_output=\"C:/Users/Aitor/Desktop/TFM/\"\n",
    "archivo_input = \"entrenamiento_10_int.csv\"\n",
    "archivo_output = \"entrenamiento_10_int_6_cols.csv\""
   ]
  },
  {
   "cell_type": "code",
   "execution_count": 20,
   "id": "61c7df2b",
   "metadata": {},
   "outputs": [],
   "source": [
    "from pyspark.sql import types as T\n",
    "from pyspark.sql import functions as F"
   ]
  },
  {
   "cell_type": "code",
   "execution_count": 21,
   "id": "a3a23260",
   "metadata": {},
   "outputs": [],
   "source": [
    "customSchema = [T.StructField(\"user_ID\", T.IntegerType()), \n",
    "    T.StructField(\"attemp\", T.IntegerType()),\n",
    "    T.StructField(\"time(us)\", T.LongType()), \n",
    "    T.StructField(\"accX(g)\", T.DoubleType()),\n",
    "    T.StructField(\"accY(g)\", T.DoubleType()),\n",
    "    T.StructField(\"accZ(g)\", T.DoubleType()),\n",
    "    T.StructField(\"gyrX(o/s)\", T.DoubleType()),\n",
    "    T.StructField(\"gyry(o/s)\", T.DoubleType()),\n",
    "    T.StructField(\"gyrz(o/s)\", T.DoubleType())]\n",
    "customSchema=T.StructType(customSchema)"
   ]
  },
  {
   "cell_type": "code",
   "execution_count": 22,
   "id": "24108f51",
   "metadata": {},
   "outputs": [],
   "source": [
    "df_aux = spark.read.option(\"sep\",\",\").option(\"header\",\"true\").option(\"mode\",\"DROPMALFORMED\").schema(customSchema).csv(ruta_input+archivo_input)"
   ]
  },
  {
   "cell_type": "code",
   "execution_count": 41,
   "id": "ebd0fd79",
   "metadata": {},
   "outputs": [],
   "source": [
    "df = df_aux.select(\"user_ID\",\"attemp\",\"accX(g)\",\"gyrz(o/s)\")"
   ]
  },
  {
   "cell_type": "code",
   "execution_count": 12,
   "id": "2069798e",
   "metadata": {},
   "outputs": [
    {
     "name": "stdout",
     "output_type": "stream",
     "text": [
      "+-------+------+--------+--------+---------+--------+---------+---------+---------+\n",
      "|user_ID|attemp|time(us)| accX(g)|  accY(g)| accZ(g)|gyrX(o/s)|gyry(o/s)|gyrz(o/s)|\n",
      "+-------+------+--------+--------+---------+--------+---------+---------+---------+\n",
      "|      1|     1|       0|1.009766|-0.016602|0.016602| 0.900763| 0.152672|-0.778626|\n",
      "|      1|     1|    1661|1.009277| -0.02002| 0.03125| 1.007634|-0.015267|-0.580153|\n",
      "|      1|     1|    3333|1.006348|-0.018555|0.026855|  0.80916| 0.045802|-0.625954|\n",
      "+-------+------+--------+--------+---------+--------+---------+---------+---------+\n",
      "only showing top 3 rows\n",
      "\n"
     ]
    }
   ],
   "source": [
    "df_aux.show(3)"
   ]
  },
  {
   "cell_type": "code",
   "execution_count": 23,
   "id": "b1eaa7af",
   "metadata": {},
   "outputs": [],
   "source": [
    "df_aux.toPandas().to_csv(ruta_output+archivo_output,index=False)"
   ]
  },
  {
   "cell_type": "code",
   "execution_count": 22,
   "id": "aaf9c3f5",
   "metadata": {},
   "outputs": [
    {
     "name": "stdout",
     "output_type": "stream",
     "text": [
      "root\n",
      " |-- user_ID: integer (nullable = true)\n",
      " |-- attemp: integer (nullable = true)\n",
      " |-- time(us): long (nullable = true)\n",
      " |-- accX(g): double (nullable = true)\n",
      " |-- accY(g): double (nullable = true)\n",
      " |-- accZ(g): double (nullable = true)\n",
      " |-- gyrX(o/s): double (nullable = true)\n",
      " |-- gyry(o/s): double (nullable = true)\n",
      " |-- gyrz(o/s): double (nullable = true)\n",
      "\n"
     ]
    }
   ],
   "source": [
    "df_aux.printSchema()"
   ]
  },
  {
   "cell_type": "code",
   "execution_count": 95,
   "id": "779d3c48",
   "metadata": {},
   "outputs": [
    {
     "name": "stdout",
     "output_type": "stream",
     "text": [
      "1405300\n"
     ]
    }
   ],
   "source": [
    "val=1495*20*47\n",
    "print(val)"
   ]
  },
  {
   "cell_type": "markdown",
   "id": "95f6c5aa",
   "metadata": {},
   "source": [
    "# Separar datos de entrenamiento y prueba\n"
   ]
  },
  {
   "cell_type": "code",
   "execution_count": 1,
   "id": "cfc884c9",
   "metadata": {},
   "outputs": [],
   "source": [
    "from pyspark.sql import types as T\n",
    "from pyspark.sql import functions as F"
   ]
  },
  {
   "cell_type": "code",
   "execution_count": 11,
   "id": "58453e9f",
   "metadata": {},
   "outputs": [],
   "source": [
    "ruta_input=\"C:/Users/Aitor/Desktop/TFM/datos_mod_cab/\"\n",
    "ruta_output=\"C:/Users/Aitor/Desktop/TFM/\"\n",
    "archivo_input = \"final_dataset.csv\"\n",
    "archivo_output = \"new_dataset.csv\""
   ]
  },
  {
   "cell_type": "code",
   "execution_count": 12,
   "id": "702cb2d0",
   "metadata": {},
   "outputs": [],
   "source": [
    "df_aux = spark.read.option(\"sep\",\",\").option(\"header\",\"true\").option(\"mode\",\"DROPMALFORMED\").csv(ruta_input+archivo_input)"
   ]
  },
  {
   "cell_type": "code",
   "execution_count": null,
   "id": "c8ee19f6",
   "metadata": {},
   "outputs": [],
   "source": [
    "df_aux.drop()"
   ]
  },
  {
   "cell_type": "code",
   "execution_count": 13,
   "id": "d903ef26",
   "metadata": {},
   "outputs": [
    {
     "data": {
      "text/plain": [
       "DataFrame[summary: string, user_ID: string, attemp: string, time(us): string, accX(g): string, accY(g): string, accZ(g): string, gyrX(o/s): string, gyry(o/s): string, gyrz(o/s): string]"
      ]
     },
     "execution_count": 13,
     "metadata": {},
     "output_type": "execute_result"
    }
   ],
   "source": [
    "df_aux.describe()"
   ]
  },
  {
   "cell_type": "code",
   "execution_count": null,
   "id": "e26b320b",
   "metadata": {},
   "outputs": [],
   "source": []
  }
 ],
 "metadata": {
  "kernelspec": {
   "display_name": "Python 3",
   "language": "python",
   "name": "python3"
  },
  "language_info": {
   "codemirror_mode": {
    "name": "ipython",
    "version": 3
   },
   "file_extension": ".py",
   "mimetype": "text/x-python",
   "name": "python",
   "nbconvert_exporter": "python",
   "pygments_lexer": "ipython3",
   "version": "3.7.10"
  }
 },
 "nbformat": 4,
 "nbformat_minor": 5
}
